{
  "nbformat": 4,
  "nbformat_minor": 0,
  "metadata": {
    "colab": {
      "provenance": []
    },
    "kernelspec": {
      "name": "python3",
      "display_name": "Python 3"
    },
    "language_info": {
      "name": "python"
    }
  },
  "cells": [
    {
      "cell_type": "code",
      "execution_count": 1,
      "metadata": {
        "id": "2qC4yb1KPi1K"
      },
      "outputs": [],
      "source": [
        "import matplotlib.pyplot as plt"
      ]
    },
    {
      "cell_type": "code",
      "source": [
        "from tensorflow.keras.datasets import mnist\n",
        "\n",
        "(x_train, y_train), (x_test, y_test) = mnist.load_data()"
      ],
      "metadata": {
        "id": "AVUkkRpDPnit"
      },
      "execution_count": null,
      "outputs": []
    },
    {
      "cell_type": "code",
      "source": [
        "x_train.shape, y_train.shape"
      ],
      "metadata": {
        "id": "t4D0ylVmPp-n"
      },
      "execution_count": null,
      "outputs": []
    },
    {
      "cell_type": "code",
      "source": [
        "x_train = x_train[:3000]\n",
        "y_train = y_train[:3000]\n",
        "x_test = x_test[:300]\n",
        "y_test = y_test[:300]"
      ],
      "metadata": {
        "id": "6Hu034ngPra_"
      },
      "execution_count": null,
      "outputs": []
    },
    {
      "cell_type": "code",
      "source": [
        "x_train_vec = x_train.reshape(x_train.shape[0], -1)\n",
        "x_test_vec = x_test.reshape(x_test.shape[0], -1)\n",
        "x_train_vec.shape, x_test_vec.shape"
      ],
      "metadata": {
        "id": "hsHVgBIkPs2j"
      },
      "execution_count": null,
      "outputs": []
    },
    {
      "cell_type": "code",
      "source": [
        "from sklearn.ensemble import RandomForestClassifier"
      ],
      "metadata": {
        "id": "jRPttxLePwT-"
      },
      "execution_count": null,
      "outputs": []
    },
    {
      "cell_type": "code",
      "source": [
        "model = RandomForestClassifier()\n",
        "model.fit(x_train_vec, y_train)"
      ],
      "metadata": {
        "id": "8o8DbQ3ePx3L"
      },
      "execution_count": null,
      "outputs": []
    },
    {
      "cell_type": "code",
      "source": [
        "pred = model.predict(x_test_vec)\n",
        "(pred==y_test).sum()/len(y_test)"
      ],
      "metadata": {
        "id": "jHR_cogzPzKm"
      },
      "execution_count": null,
      "outputs": []
    }
  ]
}